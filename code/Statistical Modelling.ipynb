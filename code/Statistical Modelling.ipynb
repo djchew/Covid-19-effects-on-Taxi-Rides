{
 "cells": [
  {
   "cell_type": "code",
   "execution_count": 52,
   "id": "c6eeb277",
   "metadata": {},
   "outputs": [],
   "source": [
    "import pandas as pd\n",
    "import numpy as np\n",
    "import seaborn as sns\n",
    "import matplotlib.pyplot as plt\n",
    "import shapefile\n",
    "import os\n",
    "import matplotlib as mpl\n",
    "import matplotlib.pyplot as plt\n",
    "import matplotlib.dates as mdates\n",
    "import geopandas as gpd\n",
    "import folium\n",
    "from folium.plugins import FastMarkerCluster\n",
    "from functools import reduce\n",
    "from statsmodels.api import families\n",
    "from statsmodels.formula.api import ols\n",
    "from scipy.stats import zscore\n",
    "import math\n",
    "\n",
    "# a nice way of filtering out deprecated warnings\n",
    "import warnings\n",
    "warnings.filterwarnings(\"ignore\")\n",
    "os.chdir(\"../raw_data/\")"
   ]
  },
  {
   "cell_type": "code",
   "execution_count": 74,
   "id": "ff7b88f6",
   "metadata": {},
   "outputs": [],
   "source": [
    "bronx_df_std = pd.read_csv(\"../preprocessed_data/bronx_fitting.csv\")\n",
    "brooklyn_df_std = pd.read_csv(\"../preprocessed_data/brooklyn_fitting.csv\")\n",
    "queens_df_std = pd.read_csv(\"../preprocessed_data/queens_fitting.csv\")\n",
    "manhattan_df_std = pd.read_csv(\"../preprocessed_data/manhattan_fitting.csv\")\n",
    "statenisland_df_std = pd.read_csv(\"../preprocessed_data/statenisland_fitting.csv\")"
   ]
  },
  {
   "cell_type": "code",
   "execution_count": 75,
   "id": "13987e8c",
   "metadata": {},
   "outputs": [
    {
     "name": "stdout",
     "output_type": "stream",
     "text": [
      "                            OLS Regression Results                            \n",
      "==============================================================================\n",
      "Dep. Variable:                  Rides   R-squared:                       0.161\n",
      "Model:                            OLS   Adj. R-squared:                  0.152\n",
      "Method:                 Least Squares   F-statistic:                     18.86\n",
      "Date:                Sun, 15 Aug 2021   Prob (F-statistic):           3.24e-11\n",
      "Time:                        19:09:29   Log-Likelihood:                -398.04\n",
      "No. Observations:                 299   AIC:                             804.1\n",
      "Df Residuals:                     295   BIC:                             818.9\n",
      "Df Model:                           3                                         \n",
      "Covariance Type:            nonrobust                                         \n",
      "==================================================================================\n",
      "                     coef    std err          t      P>|t|      [0.025      0.975]\n",
      "----------------------------------------------------------------------------------\n",
      "Intercept         -0.0247      0.054     -0.456      0.649      -0.131       0.082\n",
      "Covid             -0.3512      0.056     -6.276      0.000      -0.461      -0.241\n",
      "Distance          -0.1726      0.055     -3.124      0.002      -0.281      -0.064\n",
      "Covid:Distance     0.1227      0.048      2.561      0.011       0.028       0.217\n",
      "==============================================================================\n",
      "Omnibus:                       73.746   Durbin-Watson:                   0.788\n",
      "Prob(Omnibus):                  0.000   Jarque-Bera (JB):              156.546\n",
      "Skew:                           1.236   Prob(JB):                     1.02e-34\n",
      "Kurtosis:                       5.540   Cond. No.                         1.50\n",
      "==============================================================================\n",
      "\n",
      "Notes:\n",
      "[1] Standard Errors assume that the covariance matrix of the errors is correctly specified.\n"
     ]
    }
   ],
   "source": [
    "# Fit models\n",
    "bronx_fit = ols(formula=\"Rides ~ Covid*Distance\",\n",
    "         data=bronx_df_std).fit()\n",
    "\n",
    "print(bronx_fit.summary())"
   ]
  },
  {
   "cell_type": "code",
   "execution_count": 64,
   "id": "5beefca7",
   "metadata": {},
   "outputs": [
    {
     "name": "stdout",
     "output_type": "stream",
     "text": [
      "                            OLS Regression Results                            \n",
      "==============================================================================\n",
      "Dep. Variable:                  Rides   R-squared:                       0.035\n",
      "Model:                            OLS   Adj. R-squared:                  0.032\n",
      "Method:                 Least Squares   F-statistic:                     10.83\n",
      "Date:                Sun, 15 Aug 2021   Prob (F-statistic):            0.00112\n",
      "Time:                        12:41:50   Log-Likelihood:                -418.91\n",
      "No. Observations:                 299   AIC:                             841.8\n",
      "Df Residuals:                     297   BIC:                             849.2\n",
      "Df Model:                           1                                         \n",
      "Covariance Type:            nonrobust                                         \n",
      "==============================================================================\n",
      "                 coef    std err          t      P>|t|      [0.025      0.975]\n",
      "------------------------------------------------------------------------------\n",
      "Intercept  -6.462e-17      0.057  -1.13e-15      1.000      -0.112       0.112\n",
      "Covid         -0.1876      0.057     -3.291      0.001      -0.300      -0.075\n",
      "==============================================================================\n",
      "Omnibus:                      365.571   Durbin-Watson:                   0.091\n",
      "Prob(Omnibus):                  0.000   Jarque-Bera (JB):            17996.240\n",
      "Skew:                           5.655   Prob(JB):                         0.00\n",
      "Kurtosis:                      39.285   Cond. No.                         1.00\n",
      "==============================================================================\n",
      "\n",
      "Notes:\n",
      "[1] Standard Errors assume that the covariance matrix of the errors is correctly specified.\n"
     ]
    }
   ],
   "source": [
    "brooklyn_fit = ols(formula = \"Rides ~ Covid \",\n",
    "         data=brooklyn_df_std).fit()\n",
    "\n",
    "print(brooklyn_fit.summary())"
   ]
  },
  {
   "cell_type": "code",
   "execution_count": 68,
   "id": "e92f17a7",
   "metadata": {},
   "outputs": [
    {
     "name": "stdout",
     "output_type": "stream",
     "text": [
      "                            OLS Regression Results                            \n",
      "==============================================================================\n",
      "Dep. Variable:                  Rides   R-squared:                       0.057\n",
      "Model:                            OLS   Adj. R-squared:                  0.051\n",
      "Method:                 Least Squares   F-statistic:                     9.000\n",
      "Date:                Sun, 15 Aug 2021   Prob (F-statistic):           0.000161\n",
      "Time:                        12:48:17   Log-Likelihood:                -415.44\n",
      "No. Observations:                 299   AIC:                             836.9\n",
      "Df Residuals:                     296   BIC:                             848.0\n",
      "Df Model:                           2                                         \n",
      "Covariance Type:            nonrobust                                         \n",
      "==================================================================================\n",
      "                     coef    std err          t      P>|t|      [0.025      0.975]\n",
      "----------------------------------------------------------------------------------\n",
      "Intercept         -0.0112      0.057     -0.199      0.843      -0.123       0.100\n",
      "Covid             -0.2185      0.057     -3.830      0.000      -0.331      -0.106\n",
      "Covid:Distance     0.1214      0.051      2.374      0.018       0.021       0.222\n",
      "==============================================================================\n",
      "Omnibus:                      318.197   Durbin-Watson:                   0.097\n",
      "Prob(Omnibus):                  0.000   Jarque-Bera (JB):            10677.698\n",
      "Skew:                           4.613   Prob(JB):                         0.00\n",
      "Kurtosis:                      30.784   Cond. No.                         1.23\n",
      "==============================================================================\n",
      "\n",
      "Notes:\n",
      "[1] Standard Errors assume that the covariance matrix of the errors is correctly specified.\n"
     ]
    }
   ],
   "source": [
    "queens_fit = ols(formula=\"Rides ~ Covid + Covid:Distance\",\n",
    "         data=queens_df_std).fit()\n",
    "\n",
    "print(queens_fit.summary())"
   ]
  },
  {
   "cell_type": "code",
   "execution_count": 57,
   "id": "fb374198",
   "metadata": {},
   "outputs": [
    {
     "name": "stdout",
     "output_type": "stream",
     "text": [
      "                            OLS Regression Results                            \n",
      "==============================================================================\n",
      "Dep. Variable:                  Rides   R-squared:                       0.226\n",
      "Model:                            OLS   Adj. R-squared:                  0.224\n",
      "Method:                 Least Squares   F-statistic:                     86.91\n",
      "Date:                Sun, 15 Aug 2021   Prob (F-statistic):           2.69e-18\n",
      "Time:                        00:26:40   Log-Likelihood:                -385.89\n",
      "No. Observations:                 299   AIC:                             775.8\n",
      "Df Residuals:                     297   BIC:                             783.2\n",
      "Df Model:                           1                                         \n",
      "Covariance Type:            nonrobust                                         \n",
      "==============================================================================\n",
      "                 coef    std err          t      P>|t|      [0.025      0.975]\n",
      "------------------------------------------------------------------------------\n",
      "Intercept   1.305e-16      0.051   2.56e-15      1.000      -0.100       0.100\n",
      "Passengers     0.4758      0.051      9.322      0.000       0.375       0.576\n",
      "==============================================================================\n",
      "Omnibus:                      212.793   Durbin-Watson:                   0.408\n",
      "Prob(Omnibus):                  0.000   Jarque-Bera (JB):             2577.490\n",
      "Skew:                           2.818   Prob(JB):                         0.00\n",
      "Kurtosis:                      16.233   Cond. No.                         1.00\n",
      "==============================================================================\n",
      "\n",
      "Notes:\n",
      "[1] Standard Errors assume that the covariance matrix of the errors is correctly specified.\n"
     ]
    }
   ],
   "source": [
    "manhattan_fit = ols(formula=\"Rides ~ Passengers \",\n",
    "         data=manhattan_df_std).fit()\n",
    "\n",
    "print(manhattan_fit.summary())"
   ]
  },
  {
   "cell_type": "code",
   "execution_count": 72,
   "id": "1f79d922",
   "metadata": {},
   "outputs": [
    {
     "name": "stdout",
     "output_type": "stream",
     "text": [
      "                            OLS Regression Results                            \n",
      "==============================================================================\n",
      "Dep. Variable:                  Rides   R-squared:                       0.013\n",
      "Model:                            OLS   Adj. R-squared:                  0.009\n",
      "Method:                 Least Squares   F-statistic:                     3.844\n",
      "Date:                Sun, 15 Aug 2021   Prob (F-statistic):             0.0509\n",
      "Time:                        12:48:56   Log-Likelihood:                -422.34\n",
      "No. Observations:                 299   AIC:                             848.7\n",
      "Df Residuals:                     297   BIC:                             856.1\n",
      "Df Model:                           1                                         \n",
      "Covariance Type:            nonrobust                                         \n",
      "==================================================================================\n",
      "                     coef    std err          t      P>|t|      [0.025      0.975]\n",
      "----------------------------------------------------------------------------------\n",
      "Intercept          0.0046      0.058      0.079      0.937      -0.109       0.118\n",
      "Covid:Distance     0.1257      0.064      1.961      0.051      -0.000       0.252\n",
      "==============================================================================\n",
      "Omnibus:                       23.941   Durbin-Watson:                   1.032\n",
      "Prob(Omnibus):                  0.000   Jarque-Bera (JB):               27.351\n",
      "Skew:                           0.724   Prob(JB):                     1.15e-06\n",
      "Kurtosis:                       3.314   Cond. No.                         1.12\n",
      "==============================================================================\n",
      "\n",
      "Notes:\n",
      "[1] Standard Errors assume that the covariance matrix of the errors is correctly specified.\n"
     ]
    }
   ],
   "source": [
    "statenisland_fit = ols(formula=\"Rides ~ Covid:Distance\",\n",
    "         data=statenisland_df_std).fit()\n",
    "\n",
    "print(statenisland_fit.summary())"
   ]
  },
  {
   "cell_type": "code",
   "execution_count": null,
   "id": "3bc60a30",
   "metadata": {},
   "outputs": [],
   "source": []
  }
 ],
 "metadata": {
  "kernelspec": {
   "display_name": "Python 3 (ipykernel)",
   "language": "python",
   "name": "python3"
  },
  "language_info": {
   "codemirror_mode": {
    "name": "ipython",
    "version": 3
   },
   "file_extension": ".py",
   "mimetype": "text/x-python",
   "name": "python",
   "nbconvert_exporter": "python",
   "pygments_lexer": "ipython3",
   "version": "3.8.10"
  }
 },
 "nbformat": 4,
 "nbformat_minor": 5
}
