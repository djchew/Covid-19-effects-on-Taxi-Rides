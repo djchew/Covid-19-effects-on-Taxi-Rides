{
 "cells": [
  {
   "cell_type": "code",
   "execution_count": 1,
   "id": "b4596ff1",
   "metadata": {},
   "outputs": [],
   "source": [
    "# Adapted from Lab 1 of MAST30034\n",
    "from os.path import getsize\n",
    "from urllib.request import urlretrieve\n",
    "\n",
    "output_dir = \"../raw_data/\""
   ]
  },
  {
   "cell_type": "code",
   "execution_count": 21,
   "id": "24fee02d",
   "metadata": {},
   "outputs": [
    {
     "name": "stdout",
     "output_type": "stream",
     "text": [
      "Done downloading march_covid.csv to ../raw_data/ with size 0.00GB\n",
      "Done downloading april_covid.csv to ../raw_data/ with size 0.00GB\n",
      "Done downloading may_covid.csv to ../raw_data/ with size 0.00GB\n",
      "Done downloading june_covid.csv to ../raw_data/ with size 0.00GB\n",
      "Done downloading july_covid.csv to ../raw_data/ with size 0.00GB\n",
      "Done downloading august_covid.csv to ../raw_data/ with size 0.00GB\n",
      "Done downloading september_covid.csv to ../raw_data/ with size 0.00GB\n",
      "Done downloading october_covid.csv to ../raw_data/ with size 0.00GB\n",
      "Done downloading november_covid.csv to ../raw_data/ with size 0.00GB\n",
      "Done downloading december_covid.csv to ../raw_data/ with size 0.00GB\n"
     ]
    }
   ],
   "source": [
    "\n",
    "# # Adapted from Lab 1 of MAST30034\n",
    "# # Download covid data\n",
    "# fname = [\"march_covid.csv\",\"april_covid.csv\",\"may_covid.csv\",\"june_covid.csv\",\"july_covid.csv\",\"august_covid.csv\",\n",
    "#          \"september_covid.csv\", \"october_covid.csv\", \n",
    "#          \"november_covid.csv\",\"december_covid.csv\"]\n",
    "\n",
    "# urls = [\n",
    "#         \"https://raw.githubusercontent.com/nychealth/coronavirus-data/6f51a1fcca8ca44263aa7fe68de7172f9f8d9464/boro.csv\",\n",
    "#         \"https://raw.githubusercontent.com/nychealth/coronavirus-data/cdc5866a09ad9fa3d2c8e449dcf1803775b0a6df/boro.csv\",\n",
    "#         \"https://raw.githubusercontent.com/nychealth/coronavirus-data/9b5cd4d9259587d41017804dda6589a7b2ab5b3c/by-boro.csv\",\n",
    "#         \"https://raw.githubusercontent.com/nychealth/coronavirus-data/695e5fbdada25273f13b4af024f96e37f8503efc/by-boro.csv\",\n",
    "#         \"https://raw.githubusercontent.com/nychealth/coronavirus-data/f10021ab793108aad8a25db7a85fa0d722ad7912/by-boro.csv\",\n",
    "#         \"https://raw.githubusercontent.com/nychealth/coronavirus-data/bd0a5fe2dd4e768856b64b1d17b295793ae2488f/by-boro.csv\",\n",
    "#        \"https://raw.githubusercontent.com/nychealth/coronavirus-data/8cf8f106c71f9be9bb457fac71ff573939daded4/by-boro.csv\",\n",
    "#        \"https://raw.githubusercontent.com/nychealth/coronavirus-data/260d473f65340c97bcb090a53a7ab26b2b4f8109/by-boro.csv\",\n",
    "#        \"https://raw.githubusercontent.com/nychealth/coronavirus-data//98897168a67257d219f6e60017fb35c182dd295a/totals/by-boro.csv\",\n",
    "#        \"https://raw.githubusercontent.com/nychealth/coronavirus-data/913378382f3e0d884a858d2397a9caa6f963acb1/totals/by-boro.csv\"]\n",
    "\n",
    "# for i in range(len(urls)):\n",
    "#         urlretrieve(urls[i], f\"{output_dir}/{fname[i]}\")\n",
    "#         print(f\"Done downloading {fname[i]} to {output_dir} with size {getsize(f'{output_dir}/{fname[i]}') / 1073741824:.2f}GB\")\n",
    "# # its this easy\n",
    "# # url = \"https://raw.githubusercontent.com/nychealth/coronavirus-data/bd0a5fe2dd4e768856b64b1d17b295793ae2488f/by-boro.csv\"\n",
    "# # urlretrieve(url, f\"{output_dir}/{fname}\")\n",
    "\n",
    "# # print(f\"Done downloading {fname} to {output_dir} with size {getsize(f'{output_dir}/{fname}') / 1073741824:.2f}GB\")"
   ]
  },
  {
   "cell_type": "code",
   "execution_count": 27,
   "id": "521af175",
   "metadata": {},
   "outputs": [
    {
     "name": "stdout",
     "output_type": "stream",
     "text": [
      "Done downloading march_taxi.csv to ../raw_data/ with size 0.26GB\n",
      "Done downloading april_taxi.csv to ../raw_data/ with size 0.02GB\n",
      "Done downloading may_taxi.csv to ../raw_data/ with size 0.03GB\n",
      "Done downloading june_taxi.csv to ../raw_data/ with size 0.05GB\n",
      "Done downloading july_taxi.csv to ../raw_data/ with size 0.07GB\n",
      "Done downloading august_taxi.csv to ../raw_data/ with size 0.09GB\n",
      "Done downloading september_taxi.csv to ../raw_data/ with size 0.11GB\n",
      "Done downloading october_taxi.csv to ../raw_data/ with size 0.14GB\n",
      "Done downloading november_taxi.csv to ../raw_data/ with size 0.13GB\n",
      "Done downloading december_taxi.csv to ../raw_data/ with size 0.13GB\n"
     ]
    }
   ],
   "source": [
    "\n",
    "# Download taxi data\n",
    "fname = [\"march_taxi.csv\",\"april_taxi.csv\",\"may_taxi.csv\",\"june_taxi.csv\",\"july_taxi.csv\",\"august_taxi.csv\",\n",
    "         \"september_taxi.csv\", \"october_taxi.csv\", \n",
    "         \"november_taxi.csv\",\"december_taxi.csv\"]\n",
    "\n",
    "urls = [\n",
    "        \"https://s3.amazonaws.com/nyc-tlc/trip+data/yellow_tripdata_2020-03.csv\",\n",
    "        \"https://s3.amazonaws.com/nyc-tlc/trip+data/yellow_tripdata_2020-04.csv\",\n",
    "        \"https://s3.amazonaws.com/nyc-tlc/trip+data/yellow_tripdata_2020-05.csv\",\n",
    "        \"https://s3.amazonaws.com/nyc-tlc/trip+data/yellow_tripdata_2020-06.csv\",\n",
    "        \"https://nyc-tlc.s3.amazonaws.com/trip+data/yellow_tripdata_2020-07.csv\",\n",
    "        \"https://nyc-tlc.s3.amazonaws.com/trip+data/yellow_tripdata_2020-08.csv\",\n",
    "        \"https://nyc-tlc.s3.amazonaws.com/trip+data/yellow_tripdata_2020-09.csv\",\n",
    "        \"https://nyc-tlc.s3.amazonaws.com/trip+data/yellow_tripdata_2020-10.csv\",\n",
    "        \"https://nyc-tlc.s3.amazonaws.com/trip+data/yellow_tripdata_2020-11.csv\",\n",
    "        \"https://nyc-tlc.s3.amazonaws.com/trip+data/yellow_tripdata_2020-12.csv\"]\n",
    "\n",
    "for i in range(len(urls)):\n",
    "        urlretrieve(urls[i], f\"{output_dir}/{fname[i]}\")\n",
    "        print(f\"Done downloading {fname[i]} to {output_dir} with size {getsize(f'{output_dir}/{fname[i]}') / 1073741824:.2f}GB\")\n"
   ]
  },
  {
   "cell_type": "code",
   "execution_count": null,
   "id": "6a31d30b",
   "metadata": {},
   "outputs": [],
   "source": []
  }
 ],
 "metadata": {
  "kernelspec": {
   "display_name": "Python 3 (ipykernel)",
   "language": "python",
   "name": "python3"
  },
  "language_info": {
   "codemirror_mode": {
    "name": "ipython",
    "version": 3
   },
   "file_extension": ".py",
   "mimetype": "text/x-python",
   "name": "python",
   "nbconvert_exporter": "python",
   "pygments_lexer": "ipython3",
   "version": "3.8.10"
  }
 },
 "nbformat": 4,
 "nbformat_minor": 5
}
